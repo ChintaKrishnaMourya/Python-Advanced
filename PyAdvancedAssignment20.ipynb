{
 "cells": [
  {
   "attachments": {},
   "cell_type": "markdown",
   "metadata": {},
   "source": [
    "### 1. Compare and contrast the float and Decimal classes' benefits and drawbacks.\n",
    "\n",
    " float and Decimal classes in Python are used to represent floating-point number.\n",
    "\n",
    " float is a built in python data type. It is a high performance data type that is well suited for representing values with a wide range of magnitude, but it has limitations with precision. Decimal class provides more precision but at a cost of performance."
   ]
  },
  {
   "attachments": {},
   "cell_type": "markdown",
   "metadata": {},
   "source": [
    "### 2. Decimal(&#39;1.200&#39;) and Decimal(&#39;1.2&#39;) are two objects to consider. In what sense are these the same\n",
    "object? Are these just two ways of representing the exact same value, or do they correspond to\n",
    "different internal states?\n",
    "\n",
    "Decimal('1.200') and Decimal('1.2') are two different Decimal objects that correspond to different internal states. Each number is stored as string. Both values are same but internal states different."
   ]
  },
  {
   "attachments": {},
   "cell_type": "markdown",
   "metadata": {},
   "source": [
    "### 3. What happens if the equality of Decimal(&#39;1.200&#39;) and Decimal(&#39;1.2&#39;) is checked?\n",
    "\n",
    "It is giving True. That means they are equal."
   ]
  },
  {
   "cell_type": "code",
   "execution_count": 4,
   "metadata": {},
   "outputs": [
    {
     "data": {
      "text/plain": [
       "True"
      ]
     },
     "execution_count": 4,
     "metadata": {},
     "output_type": "execute_result"
    }
   ],
   "source": [
    "from decimal import Decimal\n",
    "Decimal('1.200')==Decimal('1.2')"
   ]
  },
  {
   "attachments": {},
   "cell_type": "markdown",
   "metadata": {},
   "source": [
    "### 4. Why is it preferable to start a Decimal object with a string rather than a floating-point value?\n",
    "Decimal object with a string rather than floating point value allows us to preserve the exact number of digits in decimal representation and it provides more control over precision. So it is preferable to start a Decimal object with a string rather than a floating-point value.\n"
   ]
  },
  {
   "attachments": {},
   "cell_type": "markdown",
   "metadata": {},
   "source": [
    "### 5. In an arithmetic phrase, how simple is it to combine Decimal objects with integers?\n",
    "\n",
    "Combining decimal objects with integers is very simple in python. We have to do just arithmetic operation. Decimal objects are automatically converted to their decimal representation before operation."
   ]
  },
  {
   "cell_type": "code",
   "execution_count": 13,
   "metadata": {},
   "outputs": [
    {
     "name": "stdout",
     "output_type": "stream",
     "text": [
      "5.56\n"
     ]
    }
   ],
   "source": [
    "x= Decimal(\"4.56\")\n",
    "y = 1\n",
    "print(x+y)"
   ]
  },
  {
   "attachments": {},
   "cell_type": "markdown",
   "metadata": {},
   "source": [
    "### 6. Can Decimal objects and floating-point values be combined easily?\n",
    "Performing mathematical operations on Decimal object  with floating point value gives TypeError.\n",
    "\n",
    "To perform operations we have to convert float to decimal.\n"
   ]
  },
  {
   "cell_type": "code",
   "execution_count": 14,
   "metadata": {},
   "outputs": [
    {
     "name": "stdout",
     "output_type": "stream",
     "text": [
      "x*z = Error has occured : unsupported operand type(s) for *: 'decimal.Decimal' and 'float'\n",
      "x*z : 20.79359999999999821795881871\n"
     ]
    }
   ],
   "source": [
    "z = 4.56\n",
    "try:\n",
    "    x*z\n",
    "except Exception as e:\n",
    "    print(\"x*z = Error has occured :\",e)\n",
    "finally:\n",
    "    z= Decimal(z)\n",
    "    print(\"x*z :\",x*z)\n",
    "\n"
   ]
  },
  {
   "attachments": {},
   "cell_type": "markdown",
   "metadata": {},
   "source": [
    "### 7. Using the Fraction class but not the Decimal class, give an example of a quantity that can be expressed with absolute precision.\n",
    "The Fraction class in Python can be used to represent quantities with absolute precision, as long as they can be expressed as a ratio of two integers.\n",
    "\n",
    "eg : 1/6 . This value can be expressed with absolute precision as fraction."
   ]
  },
  {
   "cell_type": "code",
   "execution_count": 15,
   "metadata": {},
   "outputs": [
    {
     "name": "stdout",
     "output_type": "stream",
     "text": [
      "1/6\n"
     ]
    }
   ],
   "source": [
    "from fractions import Fraction\n",
    "x= Fraction(1,6)\n",
    "print(x)"
   ]
  },
  {
   "attachments": {},
   "cell_type": "markdown",
   "metadata": {},
   "source": [
    "### 8. Describe a quantity that can be accurately expressed by the Decimal or Fraction classes but not by a floating-point value.\n",
    "Quantity that can be accurately expressed by the Decimal or Fraction classes but not by a floating-point value are those that cannot be expressed exactly as a finite decimal representation or as a finite binary fraction."
   ]
  },
  {
   "attachments": {},
   "cell_type": "markdown",
   "metadata": {},
   "source": [
    "### Q9.Consider the following two fraction objects: Fraction(1, 2) and Fraction(5, 10). Is the internal state of these two objects the same? Why do you think that is?\n",
    "\n",
    "Both are reduced to 1/2 and internal state state of these two objects will be same."
   ]
  },
  {
   "cell_type": "code",
   "execution_count": 16,
   "metadata": {},
   "outputs": [
    {
     "name": "stdout",
     "output_type": "stream",
     "text": [
      "1/2\n",
      "1/2\n"
     ]
    }
   ],
   "source": [
    "print(Fraction(1,2))\n",
    "print(Fraction(5,10))"
   ]
  },
  {
   "attachments": {},
   "cell_type": "markdown",
   "metadata": {},
   "source": [
    "### Q10. How do the Fraction class and the integer type (int) relate to each other? Containment or inheritance?\n",
    "Fraction class and integer type(int) are related to each other in form of a container.It contains two ints, one the numerator and the other the denominator.\n"
   ]
  },
  {
   "cell_type": "code",
   "execution_count": null,
   "metadata": {},
   "outputs": [],
   "source": []
  }
 ],
 "metadata": {
  "kernelspec": {
   "display_name": "Python 3",
   "language": "python",
   "name": "python3"
  },
  "language_info": {
   "codemirror_mode": {
    "name": "ipython",
    "version": 3
   },
   "file_extension": ".py",
   "mimetype": "text/x-python",
   "name": "python",
   "nbconvert_exporter": "python",
   "pygments_lexer": "ipython3",
   "version": "3.10.10"
  },
  "orig_nbformat": 4,
  "vscode": {
   "interpreter": {
    "hash": "40590ebb26e95edc6c1f3a8a7137aad132b51444b5d516fe05a60311a56b75f0"
   }
  }
 },
 "nbformat": 4,
 "nbformat_minor": 2
}
