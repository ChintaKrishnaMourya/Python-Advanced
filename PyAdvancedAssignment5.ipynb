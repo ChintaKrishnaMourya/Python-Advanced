{
 "cells": [
  {
   "attachments": {},
   "cell_type": "markdown",
   "metadata": {},
   "source": [
    "### Q1. What is the meaning of multiple inheritance?\n",
    "Multiple inheritence is the features of the OOPs in which a class can inherit properties and behaviour from multiple classes. A single class can inherit attributes and methods from multiple classes."
   ]
  },
  {
   "attachments": {},
   "cell_type": "markdown",
   "metadata": {},
   "source": [
    "### Q2. What is the concept of delegation?\n",
    "Delegation is a technique that allows an object to pass on responsibilites of another object. A child class instead of inheriting, it can access the value of parent class by instantiating the parent class in child class.\n",
    "\n",
    "Delegation is used when an object needs to use the behaviour of another object."
   ]
  },
  {
   "attachments": {},
   "cell_type": "markdown",
   "metadata": {},
   "source": [
    "### Q3. What is the concept of composition?\n",
    "\n",
    "Composition is a design pattern in OOPs that allows an object to reuse properties and behaviour from another object, rather than inheriting from the base class. It means created an instance of parents as the attribute of the child class.\n",
    "\n",
    "It is a flexible way to reuse behaviour between classes, ofthen used inplace of inheritence. "
   ]
  },
  {
   "attachments": {},
   "cell_type": "markdown",
   "metadata": {},
   "source": [
    "### Q4. What are bound methods and how do we use them?\n",
    "\n",
    "Bound method is a type of object that represents a method of an instance of class, rather than from the class itself. Bound methods are useful when where we need to pass a method as fucntion to another fucntion or to store it for later use."
   ]
  },
  {
   "attachments": {},
   "cell_type": "markdown",
   "metadata": {},
   "source": [
    "### Q5. What is the purpose of pseudoprivate attributes?\n",
    "\n",
    "The purpose of pseudoprivate attributes is to indicate that an attribute is intented to be private and should not be accessed directly."
   ]
  },
  {
   "cell_type": "markdown",
   "metadata": {},
   "source": []
  }
 ],
 "metadata": {
  "language_info": {
   "name": "python"
  },
  "orig_nbformat": 4
 },
 "nbformat": 4,
 "nbformat_minor": 2
}
