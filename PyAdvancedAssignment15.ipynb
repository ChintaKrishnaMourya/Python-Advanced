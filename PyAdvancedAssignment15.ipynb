{
 "cells": [
  {
   "attachments": {},
   "cell_type": "markdown",
   "metadata": {},
   "source": [
    "### 1. What are the new features added in Python 3.8 version?\n",
    "\n",
    "Python 3.8 has several new features and enhancement over previous versions.\n",
    "Some are :\n",
    "\n",
    "Assignment Expression - Walrus operation(:=) allows assign values to variable within an expression.\n",
    "\n",
    "yield and return statements do not require parentheses to return multiple values.\n",
    "\n",
    "Multiprocessing can now use shared memory to avoid pickling costs. This can lead to significant performance improvements in some use cases.\n",
    "\n",
    "Reversed() works with a dictionary\n",
    "\n",
    "Debugging and development support improvements: The breakpoint() built-in function can now be used to set a temporary breakpoint in your code, while the -X dev option provides new experimental features for debugging and development.\n",
    "\n",
    "If miss comma in the code like a = [(1, 2) (3, 4)], instead of raising TypeError, it displays an informative Syntax warning.\n",
    "\n",
    "etc etc"
   ]
  },
  {
   "attachments": {},
   "cell_type": "markdown",
   "metadata": {},
   "source": [
    "### 2. What is monkey patching in Python?\n",
    "\n",
    "Monkey patch refers to making dynamic (or run-time) modifications to a class or module.\n",
    " In Python, we can actually change the behavior of code at run-time."
   ]
  },
  {
   "attachments": {},
   "cell_type": "markdown",
   "metadata": {},
   "source": [
    "### 3. What is the difference between a shallow copy and deep copy?\n",
    "\n",
    "Shallow copy of an object is a new object that contains a refernce to the original object. New object and original object share same underlying data. If we modify the data in new object, the original object will also be chnaged.\n",
    "\n",
    "Deep copy of object is a new object that contains a completely independent copy of the data from original object. Modifying the data in the new object will not effect the original object."
   ]
  },
  {
   "attachments": {},
   "cell_type": "markdown",
   "metadata": {},
   "source": [
    "### 4. What is the maximum possible length of an identifier?\n",
    "\n",
    "Highest possible length of identifier is 79 characters. In practice it is limited by underlying system and can be anywhere from a few hundred bytes to sveral bytes.\n",
    "\n",
    "It is better to keep identifiers short and descriptive. Usually less than 20 characters long is preferrable."
   ]
  },
  {
   "attachments": {},
   "cell_type": "markdown",
   "metadata": {},
   "source": [
    "### 5. What is generator comprehension?\n",
    "\n",
    "generator comprehension is a single-line specification for defining a generator. Similar to list comprehensions, but instead of creating a list, they create a generator, which is an object that produces a sequence of values one at a time, rather than creating a list with all the values up front. Line of code in written inthe parenthesis \"()\"."
   ]
  }
 ],
 "metadata": {
  "kernelspec": {
   "display_name": "Python 3",
   "language": "python",
   "name": "python3"
  },
  "language_info": {
   "codemirror_mode": {
    "name": "ipython",
    "version": 3
   },
   "file_extension": ".py",
   "mimetype": "text/x-python",
   "name": "python",
   "nbconvert_exporter": "python",
   "pygments_lexer": "ipython3",
   "version": "3.10.10"
  },
  "orig_nbformat": 4,
  "vscode": {
   "interpreter": {
    "hash": "40590ebb26e95edc6c1f3a8a7137aad132b51444b5d516fe05a60311a56b75f0"
   }
  }
 },
 "nbformat": 4,
 "nbformat_minor": 2
}
