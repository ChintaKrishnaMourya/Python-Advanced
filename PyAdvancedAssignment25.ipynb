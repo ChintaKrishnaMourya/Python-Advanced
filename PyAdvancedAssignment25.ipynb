{
 "cells": [
  {
   "attachments": {},
   "cell_type": "markdown",
   "metadata": {},
   "source": [
    "### Q1. What is the distinction between a numpy array and a pandas data frame? Is there a way to convert between the two if there is?\n",
    "\n",
    "numpy array is a n- dimensional array but it allows only single data type. Pandas DataFrame is a 2-D heterogenous tabular data with labelled rows and columns.\n",
    "\n",
    "To convert numpy array to pandas : pandas.DataFrame().\n",
    "\n",
    "To convert pandas to numpy : dataframe.to_numpy()."
   ]
  },
  {
   "attachments": {},
   "cell_type": "markdown",
   "metadata": {},
   "source": [
    "### Q2. What can go wrong when an user enters in a stock-ticker symbol, and how do you handle it?\n",
    "\n",
    "It will give error. To handle this error, we should provide message to the error or we can use symbol validation in our code."
   ]
  },
  {
   "attachments": {},
   "cell_type": "markdown",
   "metadata": {},
   "source": [
    "### Q3. Identify some of the plotting techniques that are used to produce a stock-market chart.\n",
    "\n",
    "line plot and bar plot, histograms can be used to produce stock market charts."
   ]
  },
  {
   "attachments": {},
   "cell_type": "markdown",
   "metadata": {},
   "source": [
    "### Q4. Why is it essential to print a legend on a stock market chart?\n",
    " It hel-ps us to study the graphs with respect to the legend to understand what line is representing what.\n"
   ]
  },
  {
   "attachments": {},
   "cell_type": "markdown",
   "metadata": {},
   "source": [
    "### Q5. What is the best way to limit the length of a pandas data frame to less than a year?\n",
    "\n",
    "we can limit the length by using\n",
    "daterange = pandas.data_range(start=, end=)\n",
    "df = pd.DataFrame(daterange , )"
   ]
  },
  {
   "attachments": {},
   "cell_type": "markdown",
   "metadata": {},
   "source": [
    "### Q6. What is the definition of a 180-day moving average?\n",
    "\n",
    "It is a technical analysis tool used to smooth out fluctuations in data and to identify trends. It is calculated by average of past 180 days over the data point. It is plotted on a chart along with actual data."
   ]
  }
 ],
 "metadata": {
  "kernelspec": {
   "display_name": "Python 3",
   "language": "python",
   "name": "python3"
  },
  "language_info": {
   "codemirror_mode": {
    "name": "ipython",
    "version": 3
   },
   "file_extension": ".py",
   "mimetype": "text/x-python",
   "name": "python",
   "nbconvert_exporter": "python",
   "pygments_lexer": "ipython3",
   "version": "3.10.10"
  },
  "orig_nbformat": 4,
  "vscode": {
   "interpreter": {
    "hash": "40590ebb26e95edc6c1f3a8a7137aad132b51444b5d516fe05a60311a56b75f0"
   }
  }
 },
 "nbformat": 4,
 "nbformat_minor": 2
}
