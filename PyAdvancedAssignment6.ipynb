{
 "cells": [
  {
   "attachments": {},
   "cell_type": "markdown",
   "metadata": {},
   "source": [
    "### Q1. Describe three applications for exception processing.\n",
    "\n",
    "Exception processing is used for handling runtime errors and exceptions that occur during the program execution. \n",
    "\n",
    "It is commonly used for \"Input Validation\", \"Error HAndlimg\" , \" Resource management - used to manage files, databases.\""
   ]
  },
  {
   "attachments": {},
   "cell_type": "markdown",
   "metadata": {},
   "source": [
    "### Q2. What happens if you don't do something extra to treat an exception?\n",
    "\n",
    "If we dont do exception handlimg in the code, the program will terminate abnormally.Unhandled exceptions can be lead to unexpected behaviour. "
   ]
  },
  {
   "attachments": {},
   "cell_type": "markdown",
   "metadata": {},
   "source": [
    "### Q3. What are your options for recovering from an exception in your script?\n",
    "We can catch the exception using \"try\" block and \" except\" block to handle the exception and to print error message or we can raise the error in addition to or instead of handlinng original exception."
   ]
  },
  {
   "attachments": {},
   "cell_type": "markdown",
   "metadata": {},
   "source": [
    "### Q4. Describe two methods for triggering exceptions in your script.\n",
    "\n",
    "1. Raising the exception : We can raise the exception in our code by using \"raise\" statement. \n",
    "\n",
    "2. Calling a fucntion that raises exception exception : We can also trigger an exception by calling a fucntion or method that raises exception. "
   ]
  },
  {
   "attachments": {},
   "cell_type": "markdown",
   "metadata": {},
   "source": [
    "### Q5. Identify two methods for specifying actions to be executed at termination time, regardless of whether or not an exception exists.\n",
    "\n",
    "Python provides else and finally blocks for specifiying actions to be executed at termination time. "
   ]
  },
  {
   "cell_type": "markdown",
   "metadata": {},
   "source": []
  }
 ],
 "metadata": {
  "language_info": {
   "name": "python"
  },
  "orig_nbformat": 4
 },
 "nbformat": 4,
 "nbformat_minor": 2
}
