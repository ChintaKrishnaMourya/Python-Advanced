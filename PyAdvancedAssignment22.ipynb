{
 "cells": [
  {
   "attachments": {},
   "cell_type": "markdown",
   "metadata": {},
   "source": [
    "### Q1. What are the benefits of the built-in array package, if any?\n",
    "\n",
    "built in array package provides a convenient and efficient way to store and manipulate arrays of elements and is a good choice when we need to store a large number of elements of same data type."
   ]
  },
  {
   "attachments": {},
   "cell_type": "markdown",
   "metadata": {},
   "source": [
    "### Q2. What are some of the array package&#39;s limitations?\n",
    "\n",
    "Once array is created, we cannot change its size, and we can only store single data type, arrays can be slower than other data structures, and array only supports number data types like integers, floats"
   ]
  },
  {
   "attachments": {},
   "cell_type": "markdown",
   "metadata": {},
   "source": [
    "### Q3. Describe the main differences between the array and numpy packages.\n",
    "\n",
    "Both are used for storing and manipulating arrays in python.\n",
    "\n",
    "numpy provies wide range of operations than arrays. Nunmpy is optimised for performance and faster than array. numpy provides advanced memory manangement."
   ]
  },
  {
   "attachments": {},
   "cell_type": "markdown",
   "metadata": {},
   "source": [
    "### Q4. Explain the distinctions between the empty, ones, and zeros functions.\n",
    "\n",
    "These are useed to create arrays in the numpy package.\n",
    "\n",
    "empty : creates an array with uninitialised elements- the elements in the array are not set to any specific value.\n",
    "\n",
    "ones : creates an array with all elements set to the value 1. This is useful when you need to create arrays with a specific value.\n",
    "\n",
    "zeroes : creates an array with all elements set to the value 0. "
   ]
  },
  {
   "attachments": {},
   "cell_type": "markdown",
   "metadata": {},
   "source": [
    "### Q5. In the fromfunction function, which is used to construct new arrays, what is the role of the callable argument?\n",
    "\n",
    "The callable argument takes a single argument which is a tuple representing the indices of the element in the array and return the value for that element.\n"
   ]
  },
  {
   "attachments": {},
   "cell_type": "markdown",
   "metadata": {},
   "source": [
    "### Q6. What happens when a numpy array is combined with a single-value operand (a scalar, such as an int or a floating-point value) through addition, as in the expression A + n?\n",
    "\n",
    " when a numpy array is combined with a single-value operand (a scalar, such as an int or a floating-point value) through addition : all the elements of the array will get added with \"n\""
   ]
  },
  {
   "attachments": {},
   "cell_type": "markdown",
   "metadata": {},
   "source": [
    "### Q7. Can array-to-scalar operations use combined operation-assign operators (such as += or *=)? What is the outcome?\n",
    "When such operations performed all the elements of the array  get effected."
   ]
  },
  {
   "attachments": {},
   "cell_type": "markdown",
   "metadata": {},
   "source": [
    "### Q8. Does a numpy array contain fixed-length strings? What happens if you allocate a longer string to one of these arrays?\n",
    "\n",
    "When we allocate a longer string to a numpy array with an object dtype, it will store the longer string without issue. "
   ]
  },
  {
   "attachments": {},
   "cell_type": "markdown",
   "metadata": {},
   "source": [
    "### Q9. What happens when you combine two numpy arrays using an operation like addition (+) or multiplication (*)? What are the conditions for combining two numpy arrays?\n",
    "\n",
    "It will add or multiply two numpy arrays, numpy performs element wise operations on the arrays.\n",
    "\n",
    "conditions for combining two numpy arrays : they must have the same shape. If the arrays have different shapes, numpy will raise a ValueError"
   ]
  },
  {
   "attachments": {},
   "cell_type": "markdown",
   "metadata": {},
   "source": [
    "### Q10. What is the best way to use a Boolean array to mask another array?\n",
    "\n",
    "we can use masked_where of numpy package o use a Boolean array to mask another array"
   ]
  },
  {
   "attachments": {},
   "cell_type": "markdown",
   "metadata": {},
   "source": [
    "### Q11. What are three different ways to get the standard deviation of a wide collection of data using both standard Python and its packages? Sort the three of them by how quickly they execute.\n",
    "\n",
    "from statistics module , we can use stdev fucntion, from numpy module - std function, from numpy module, we can use mean function to calculate mean & subtracting mean from elements and squaring the differences and finally taking the average of sum of differences.\n",
    "\n",
    "sorting on quickly they execute : numpy's std > numpy's mean method > statistics's stdev.\n"
   ]
  },
  {
   "attachments": {},
   "cell_type": "markdown",
   "metadata": {},
   "source": [
    "### 12. What is the dimensionality of a Boolean mask-generated array?\n",
    "\n",
    "It will have same dimensionality as input array.\n"
   ]
  }
 ],
 "metadata": {
  "language_info": {
   "name": "python"
  },
  "orig_nbformat": 4
 },
 "nbformat": 4,
 "nbformat_minor": 2
}
