{
 "cells": [
  {
   "attachments": {},
   "cell_type": "markdown",
   "metadata": {},
   "source": [
    "### Q1. Which two operator overloading methods can you use in your classes to support iteration?\n",
    "\n",
    "To support iteration, we can use __ iter__ and __ next__. __ iter__ method returns iterator object , which is the object that implements the __ next__ method."
   ]
  },
  {
   "attachments": {},
   "cell_type": "markdown",
   "metadata": {},
   "source": [
    "### Q2. In what contexts do the two operator overloading methods manage printing?\n",
    "\n",
    "__ str__ and __ repr__ methods manahge printing in different contexts.\n",
    "\n",
    "__ str__ method returns a string representation of the object. This method is used by \"print\" function as well as by \"str\" fucntion.\n",
    "\n",
    "__ repr__ method returnds the string representation of ther object that is meant to be ambiguous , useful for debugging purpose."
   ]
  },
  {
   "attachments": {},
   "cell_type": "markdown",
   "metadata": {},
   "source": [
    "### Q3. In a class, how do you intercept slice operations?\n",
    "\n",
    "In the class, we can intercept slice operations by defining __ getitem__ method. __ getitem__ method is called whenever an object of the class is indexed, can be used to return the value at specified index."
   ]
  },
  {
   "attachments": {},
   "cell_type": "markdown",
   "metadata": {},
   "source": [
    "### Q4. In a class, how do you capture in-place addition?\n",
    " We can capture in-place addition by defining \"__ inadd__\" method. It is called whnever the += operator ias used on the object of the class."
   ]
  },
  {
   "attachments": {},
   "cell_type": "markdown",
   "metadata": {},
   "source": [
    "### Q5. When is it appropriate to use operator overloading?\n",
    "\n",
    "When the instances of the classes behave like the built in data types like mathematical operators, compariosn operations etc."
   ]
  },
  {
   "cell_type": "code",
   "execution_count": null,
   "metadata": {},
   "outputs": [],
   "source": []
  }
 ],
 "metadata": {
  "kernelspec": {
   "display_name": "Python 3",
   "language": "python",
   "name": "python3"
  },
  "language_info": {
   "name": "python",
   "version": "3.10.10"
  },
  "orig_nbformat": 4,
  "vscode": {
   "interpreter": {
    "hash": "40590ebb26e95edc6c1f3a8a7137aad132b51444b5d516fe05a60311a56b75f0"
   }
  }
 },
 "nbformat": 4,
 "nbformat_minor": 2
}
