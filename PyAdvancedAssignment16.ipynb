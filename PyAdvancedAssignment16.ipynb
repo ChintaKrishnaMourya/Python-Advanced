{
 "cells": [
  {
   "attachments": {},
   "cell_type": "markdown",
   "metadata": {},
   "source": [
    "### Q1. What is the benefit of regular expressions?\n",
    "\n",
    "Regular expressions helps us to find pattern, matching and text processing. They provide a flexible way toi describe complex patterns in text. Also known as regex. It also avoids multiple use of if/else statements.\n",
    "\n"
   ]
  },
  {
   "attachments": {},
   "cell_type": "markdown",
   "metadata": {},
   "source": [
    "### Q2. Describe the difference between the effects of &quot;(ab)c+&quot; and &quot;a(bc)+.&quot; Which of these, if any, is the unqualified pattern &quot;abc+&quot;?\n",
    "\n"
   ]
  },
  {
   "attachments": {},
   "cell_type": "markdown",
   "metadata": {},
   "source": [
    "(ab)c+ : Pattern that matches one or more occurrences of the string \"c\" preceded by the group \"(ab)\". This will match the strings \"abc\", \"abcabc\", \"abcabcabc\" etc.\n",
    "\n",
    "a(bc)+ : Pattern that matches one or more occurrences of the group \"bc\" preceded by the character \"a\". This will match the strings abc, abcbc, abcbcbc, etc.\n",
    "\n",
    "Neither of these expressions is the unqualified pattern abc+, which would match one or more occurrences of the string \"abc\" without any additional characters or groups."
   ]
  },
  {
   "attachments": {},
   "cell_type": "markdown",
   "metadata": {},
   "source": [
    "### Q3. How much do you need to use the following sentence while using regular expressions? import re\n",
    "\n",
    " import re statement always has to be imported before using regular expressions"
   ]
  },
  {
   "attachments": {},
   "cell_type": "markdown",
   "metadata": {},
   "source": [
    "### Q4. Which characters have special significance in square brackets when expressing a range, and under what circumstances?\n",
    "\n",
    "In python ,[ ] are used to define a character set in regular expression. \".,*,?, ^, or , () have special significance in square brackets. They need not to be escaped by \\ as in case of pattern texts in a raw string."
   ]
  },
  {
   "attachments": {},
   "cell_type": "markdown",
   "metadata": {},
   "source": [
    "### Q5. How does compiling a regular-expression object benefit you?\n",
    "\n",
    "Compiling regular expression object can improve the performance, error checking, reusability."
   ]
  },
  {
   "attachments": {},
   "cell_type": "markdown",
   "metadata": {},
   "source": [
    "### Q6. What are some examples of how to use the match object returned by re.match and re.search?\n",
    "\n",
    "re.match and re.search are two functions in the Python that are used to search for a pattern in a string.\n",
    "\n",
    "re.match : matches at begining of the string. It returns a match object if pattern is found at starting of the string and returns \"none\" if not found.\n",
    "\n",
    "re.search : searches entire string for pattern. It returns first match if found anywhere in string. "
   ]
  },
  {
   "cell_type": "code",
   "execution_count": 2,
   "metadata": {},
   "outputs": [
    {
     "name": "stdout",
     "output_type": "stream",
     "text": [
      "Match found using re.search in s1.\n",
      "Match found using re.match in s2.\n"
     ]
    }
   ],
   "source": [
    "import re\n",
    "\n",
    "s1 = \"iNeuron Fullstack Data Science course\"\n",
    "s2 = \"My name is Mourya\"\n",
    "\n",
    "# using re.search\n",
    "pattern = r\"data science\"\n",
    "match = re.search(pattern, s1, re.IGNORECASE)\n",
    "if match:\n",
    "    print(\"Match found using re.search in s1.\")\n",
    "else:\n",
    "    print(\"No match found using re.search in s1.\")\n",
    "\n",
    "# Using re.match\n",
    "pattern = r\"My name is \\w+\"\n",
    "match = re.match(pattern, s2)\n",
    "if match:\n",
    "    print(\"Match found using re.match in s2.\")\n",
    "else:\n",
    "    print(\"No match found using re.match in s2.\")\n"
   ]
  },
  {
   "attachments": {},
   "cell_type": "markdown",
   "metadata": {},
   "source": [
    "### Q7. What is the difference between using a vertical bar (|) as an alteration and using square brackets as a character set?\n",
    "\n",
    "'|' is used to match either of the given patterns. Eg : cat|dog. It matches either cat or dog and will return. It means cat or dog.\n",
    "\n",
    "[ ] helps us to find set of charcaters that we want to match. Eg : [abc] matches any single character \"a\",\"b\",\"c\"."
   ]
  },
  {
   "attachments": {},
   "cell_type": "markdown",
   "metadata": {},
   "source": [
    "### Q8. In regular-expression search patterns, why is it necessary to use the raw-string indicator (r)? In  replacement strings?\n",
    "\n",
    "It is necessary to use raw string because baclslashes do not have to be escaped. Without the \"r\" indicator in regular string, we have to use // to escape backslash.\n",
    "\n",
    "Regular string without the 'r' indicator\n",
    "pattern = \"\\\\d+\"\n",
    "\n",
    "Raw string with the raw string indicator\n",
    "pattern = r\"\\d+\"\n"
   ]
  },
  {
   "cell_type": "code",
   "execution_count": null,
   "metadata": {},
   "outputs": [],
   "source": []
  }
 ],
 "metadata": {
  "kernelspec": {
   "display_name": "Python 3",
   "language": "python",
   "name": "python3"
  },
  "language_info": {
   "codemirror_mode": {
    "name": "ipython",
    "version": 3
   },
   "file_extension": ".py",
   "mimetype": "text/x-python",
   "name": "python",
   "nbconvert_exporter": "python",
   "pygments_lexer": "ipython3",
   "version": "3.10.10"
  },
  "orig_nbformat": 4,
  "vscode": {
   "interpreter": {
    "hash": "40590ebb26e95edc6c1f3a8a7137aad132b51444b5d516fe05a60311a56b75f0"
   }
  }
 },
 "nbformat": 4,
 "nbformat_minor": 2
}
