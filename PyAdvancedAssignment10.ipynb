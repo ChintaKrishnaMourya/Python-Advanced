{
 "cells": [
  {
   "attachments": {},
   "cell_type": "markdown",
   "metadata": {},
   "source": [
    "### Q1. What is the difference between __ getattr__ and __ getattribute__?\n",
    "\n",
    "__ getattr__, __ getattribute__ are special methods that both used to intercept attribute accesse to an object and retur na value, but the difference is how they handle missing attribtues and how they are called. \n",
    "\n",
    "__ getattribute_- is called for all attribute access , while __ getattr__ is only called for missing attributes."
   ]
  },
  {
   "attachments": {},
   "cell_type": "markdown",
   "metadata": {},
   "source": [
    "### Q2. What is the difference between properties and descriptors?\n",
    "In Python, properties and descriptors are both mechanisms for controlling access to object attributes, but they have different purposes and work in different ways.\n",
    "\n",
    "Properties are a way of adding computed attributes to an object, while descriptors are a more general mechanism for customizing the behavior of attribute access."
   ]
  },
  {
   "attachments": {},
   "cell_type": "markdown",
   "metadata": {},
   "source": [
    "### Q3. What are the key differences in functionality between __ getattr__ and __ getattribute__, as well as properties and descriptors?\n",
    "\n",
    " __ getattribute__ and __ getattr__ are special methods in Python that are used for controlling access to object attributes and handling attribute not found errors. Properties and descriptors are mechanisms for controlling access to object attributes, but they work in different ways. Properties are a way of adding computed attributes to an object, while descriptors are a more general mechanism for customizing the behavior of attribute access."
   ]
  },
  {
   "cell_type": "markdown",
   "metadata": {},
   "source": []
  }
 ],
 "metadata": {
  "kernelspec": {
   "display_name": "Python 3",
   "language": "python",
   "name": "python3"
  },
  "language_info": {
   "name": "python",
   "version": "3.10.10"
  },
  "orig_nbformat": 4,
  "vscode": {
   "interpreter": {
    "hash": "40590ebb26e95edc6c1f3a8a7137aad132b51444b5d516fe05a60311a56b75f0"
   }
  }
 },
 "nbformat": 4,
 "nbformat_minor": 2
}
