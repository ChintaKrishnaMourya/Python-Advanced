{
 "cells": [
  {
   "attachments": {},
   "cell_type": "markdown",
   "metadata": {},
   "source": [
    "### Q1. What is the concept of a metaclass?\n",
    "\n",
    "Metaclass is a special class that defines the behaviour of a class. It is a class of a class. Metaclass is responsible for creating the class object and defining its behaviour. \n",
    "\n",
    "e.g. Type of int, str, float, list, tuple and many more is of metaclass type."
   ]
  },
  {
   "attachments": {},
   "cell_type": "markdown",
   "metadata": {},
   "source": [
    "### Q2. What is the best way to declare a class's metaclass?\n",
    "\n",
    "By using the keyword metaclass in class definition , we can declare a class's metaclass.\n",
    "\n"
   ]
  },
  {
   "attachments": {},
   "cell_type": "markdown",
   "metadata": {},
   "source": [
    "### Q3. How do class decorators overlap with metaclasses for handling classes?\n",
    "\n",
    "Class decorators and metaclasses are ways to modify the behavior of a class.They approach the problem from different ways.\n",
    "\n",
    " Anything you can do with a class decorator, you can of course do with a custom metaclasses (just apply the functionality of the \"decorator function\", i.e., the one that takes a class object and modifies it, in the course of the metaclass's __ new__ or __ init__ that make the class object!)."
   ]
  },
  {
   "attachments": {},
   "cell_type": "markdown",
   "metadata": {},
   "source": [
    "### Q4. How do class decorators overlap with metaclasses for handling instances?\n",
    "\n",
    "Class decorators and metaclasses are ways to modify the behavior of a class.They approach the problem from different ways.\n",
    "\n",
    " Anything you can do with a class decorator, you can of course do with a custom metaclasses (just apply the functionality of the \"decorator function\", i.e., the one that takes a class object and modifies it, in the course of the metaclass's __ new__ or __ init__ that make the class object!)."
   ]
  },
  {
   "cell_type": "markdown",
   "metadata": {},
   "source": []
  }
 ],
 "metadata": {
  "language_info": {
   "name": "python"
  },
  "orig_nbformat": 4
 },
 "nbformat": 4,
 "nbformat_minor": 2
}
