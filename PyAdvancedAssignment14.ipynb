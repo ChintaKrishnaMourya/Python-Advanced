{
 "cells": [
  {
   "attachments": {},
   "cell_type": "markdown",
   "metadata": {},
   "source": [
    "### Q1. Is an assignment operator like += only for show? Is it possible that it would lead to faster results at the runtime?\n",
    "\n",
    "\"+=\" is not for show, it can give faster results  at runtime in some cases, because it the shorthand notation for combination of 2 operations. \n",
    "sum = sum+1, finds the sum by adding 1 to it and then storing the value again in sum. sum+=1 means sum is incremented by 1.\n",
    "\n",
    "eg : x = 0\n",
    "\n",
    "for i in range(1000000):\n",
    "\n",
    "    x = x + i / x+=i\n",
    "\n",
    "If we use x=x+i, code takes a long time to run because it is performing two separate operations for each iteration of the loop: retrieving the value of x and then updating it with the new value.\n",
    "\n",
    "If we use x+=i,the += operator performs both the retrieval and update operations in a single step, which can lead to faster results at runtime.\n"
   ]
  },
  {
   "attachments": {},
   "cell_type": "markdown",
   "metadata": {},
   "source": [
    "### Q2. What is the smallest number of statements you'd have to write in most programming languages to replace the Python expression a, b = a + b, a?\n",
    "\n",
    "It will take 5 lines to make this expression in other languages. Swapping in other languages require another temp variable.\n",
    "\n",
    "2 lines for assigning values to a,b.\n",
    "\n",
    "3 lines for storing value of a to temp & storing a+b in a & temp to b.\n",
    "\n",
    "a=5\n",
    "\n",
    "b=5\n",
    "\n",
    "temp = a\n",
    "\n",
    "a= a+b\n",
    "\n",
    "b= temp\n"
   ]
  },
  {
   "attachments": {},
   "cell_type": "markdown",
   "metadata": {},
   "source": [
    "### Q3. In Python, what is the most effective way to set a list of 100 integers to 0?\n",
    "We can use list comprehension or multiplying [0] with 100. It will give list of 100 zeroes.\n"
   ]
  },
  {
   "cell_type": "code",
   "execution_count": 4,
   "metadata": {},
   "outputs": [
    {
     "name": "stdout",
     "output_type": "stream",
     "text": [
      "[0, 0, 0, 0, 0, 0, 0, 0, 0, 0, 0, 0, 0, 0, 0, 0, 0, 0, 0, 0, 0, 0, 0, 0, 0, 0, 0, 0, 0, 0, 0, 0, 0, 0, 0, 0, 0, 0, 0, 0, 0, 0, 0, 0, 0, 0, 0, 0, 0, 0, 0, 0, 0, 0, 0, 0, 0, 0, 0, 0, 0, 0, 0, 0, 0, 0, 0, 0, 0, 0, 0, 0, 0, 0, 0, 0, 0, 0, 0, 0, 0, 0, 0, 0, 0, 0, 0, 0, 0, 0, 0, 0, 0, 0, 0, 0, 0, 0, 0, 0] "
     ]
    }
   ],
   "source": [
    "lis = [0 for x in range(100)]\n",
    "print(lis,end=\" \")"
   ]
  },
  {
   "cell_type": "code",
   "execution_count": 8,
   "metadata": {},
   "outputs": [
    {
     "name": "stdout",
     "output_type": "stream",
     "text": [
      "[0, 0, 0, 0, 0, 0, 0, 0, 0, 0, 0, 0, 0, 0, 0, 0, 0, 0, 0, 0, 0, 0, 0, 0, 0, 0, 0, 0, 0, 0, 0, 0, 0, 0, 0, 0, 0, 0, 0, 0, 0, 0, 0, 0, 0, 0, 0, 0, 0, 0, 0, 0, 0, 0, 0, 0, 0, 0, 0, 0, 0, 0, 0, 0, 0, 0, 0, 0, 0, 0, 0, 0, 0, 0, 0, 0, 0, 0, 0, 0, 0, 0, 0, 0, 0, 0, 0, 0, 0, 0, 0, 0, 0, 0, 0, 0, 0, 0, 0, 0] "
     ]
    }
   ],
   "source": [
    "lis1 = [0]\n",
    "print(lis1*100, end=\" \")"
   ]
  },
  {
   "attachments": {},
   "cell_type": "markdown",
   "metadata": {},
   "source": [
    "### Q4. What is the most effective way to initialise a list of 99 integers that repeats the sequence 1, 2, 3? S If necessary, show step-by-step instructions on how to accomplish this.\n",
    "\n",
    "we can multiply the list [1,2,3] with 33. It will contain the list of 99 integers with 1,2,3"
   ]
  },
  {
   "cell_type": "code",
   "execution_count": 11,
   "metadata": {},
   "outputs": [
    {
     "name": "stdout",
     "output_type": "stream",
     "text": [
      "[1, 2, 3, 1, 2, 3, 1, 2, 3, 1, 2, 3, 1, 2, 3, 1, 2, 3, 1, 2, 3, 1, 2, 3, 1, 2, 3, 1, 2, 3, 1, 2, 3, 1, 2, 3, 1, 2, 3, 1, 2, 3, 1, 2, 3, 1, 2, 3, 1, 2, 3, 1, 2, 3, 1, 2, 3, 1, 2, 3, 1, 2, 3, 1, 2, 3, 1, 2, 3, 1, 2, 3, 1, 2, 3, 1, 2, 3, 1, 2, 3, 1, 2, 3, 1, 2, 3, 1, 2, 3, 1, 2, 3, 1, 2, 3, 1, 2, 3] \n",
      "\n",
      "Length of list_99 :  99\n"
     ]
    }
   ],
   "source": [
    "lis3 = [1,2,3]\n",
    "list_99 = lis3 * 33\n",
    "print(list_99, end=\" \\n\")\n",
    "print(\"\\nLength of list_99 : \", len(list_99))"
   ]
  },
  {
   "attachments": {},
   "cell_type": "markdown",
   "metadata": {},
   "source": [
    "### Q5. If you're using IDLE to run a Python application, explain how to print a multidimensional list as efficiently?\n",
    "\n",
    "To print efficiently, we can use for loops for extract the multidimensional lists to print all the elements of the list\n",
    "\n",
    "\n",
    "we can use pprint module from the python standard library. Pretty print - pprint module helps us to print data structures - list, dictionaries in a readable way."
   ]
  },
  {
   "cell_type": "code",
   "execution_count": 12,
   "metadata": {},
   "outputs": [
    {
     "name": "stdout",
     "output_type": "stream",
     "text": [
      "1 2 3 4 5 6 7 8 9 10 "
     ]
    }
   ],
   "source": [
    "list_2d = [[1,2],[3,4],[5,6],[7,8],[9,10]]\n",
    "for i in range(len(list_2d)):   \n",
    "    for j in range(len(list_2d[i])):\n",
    "        print(list_2d[i][j],end=\" \")"
   ]
  },
  {
   "cell_type": "code",
   "execution_count": 21,
   "metadata": {},
   "outputs": [
    {
     "name": "stdout",
     "output_type": "stream",
     "text": [
      "[[1, 2], [3, 4], [5, 6], [7, 8], [9, 10]] \n",
      "\n",
      "[[1, 2],\n",
      " [3, 4],\n",
      " [5, 6],\n",
      " [7, 8],\n",
      " [9, 10]]\n"
     ]
    }
   ],
   "source": [
    "import pprint\n",
    "print(list_2d, \"\\n\")\n",
    "pprint.pprint(list_2d, width=10)"
   ]
  },
  {
   "attachments": {},
   "cell_type": "markdown",
   "metadata": {},
   "source": [
    "### Q6. Is it possible to use list comprehension with a string? If so, how can you go about doing it?\n",
    "\n",
    "Yes, we can use list comprehension with a string."
   ]
  },
  {
   "cell_type": "code",
   "execution_count": 24,
   "metadata": {},
   "outputs": [
    {
     "data": {
      "text/plain": [
       "['D', 'a', 't', 'a', 'S', 'c', 'i', 'e', 'n', 'c', 'e']"
      ]
     },
     "execution_count": 24,
     "metadata": {},
     "output_type": "execute_result"
    }
   ],
   "source": [
    "string = \"DataScience\"\n",
    "lis = [i for i in string]\n",
    "lis"
   ]
  },
  {
   "attachments": {},
   "cell_type": "markdown",
   "metadata": {},
   "source": [
    "### Q7. From the command line, how do you get support with a user-written Python programme? Is this possible from inside IDLE?\n",
    "\n",
    "Start \"command prompt\" . If the file saved in the current working directory, we can speciy the filename as a command line argument to python interpreter.\n",
    "\n",
    "From IDLE, we can create and run python programs. \n",
    "\n",
    "shell window menu --> select File --> New file. --> Write code --> Save and run the module. Output will appear in the interpreter."
   ]
  },
  {
   "attachments": {},
   "cell_type": "markdown",
   "metadata": {},
   "source": [
    "### Q8. Functions are said to be “first-class objects” in Python but not in most other languages, such as C++ or Java. What can you do in Python with a function (callable object) that you can&#39;t do in C or C++?\n",
    "\n",
    "Functions are first class objects because they can be treated just like any other objects such as string, or integer.\n",
    "\n",
    "We can assign functions to variables, pass functions as arguments, return fucntions from functions. We can also store them in lists or dictionaries.\n"
   ]
  },
  {
   "attachments": {},
   "cell_type": "markdown",
   "metadata": {},
   "source": [
    "### Q9. How do you distinguish between a wrapper, a wrapped feature, and a decorator?\n",
    "\n",
    "Wrapper provides a simplpified interface to complex underlying system. Wrapped feature is the underlying feature that is being wrapped, and a decorator is a special type of wrapper that is used to modify the behavior of a function or class."
   ]
  },
  {
   "attachments": {},
   "cell_type": "markdown",
   "metadata": {},
   "source": [
    "### Q10. If a function is a generator function, what does it return?\n",
    "\n",
    "It returns a generator object. It can be used to produce a series of values one by one. In generator fucntions , we use yield instead of return statement. Generators are useful whe n producing large amount of data, but unable tostore all in the memory."
   ]
  },
  {
   "attachments": {},
   "cell_type": "markdown",
   "metadata": {},
   "source": [
    "### Q11. What is the one improvement that must be made to a function in order for it to become a generator function in the Python language?\n",
    "\n",
    "Instead of return statement, we have to use yield statement."
   ]
  },
  {
   "attachments": {},
   "cell_type": "markdown",
   "metadata": {},
   "source": [
    "### Q12. Identify at least one benefit of generators.\n",
    "Return statment sends a specified value back whereas yield produces a sequence of values . Generators are useful whe n producing large amount of data, but unable tostore all in the memory.\n"
   ]
  }
 ],
 "metadata": {
  "kernelspec": {
   "display_name": "Python 3",
   "language": "python",
   "name": "python3"
  },
  "language_info": {
   "codemirror_mode": {
    "name": "ipython",
    "version": 3
   },
   "file_extension": ".py",
   "mimetype": "text/x-python",
   "name": "python",
   "nbconvert_exporter": "python",
   "pygments_lexer": "ipython3",
   "version": "3.10.10"
  },
  "orig_nbformat": 4,
  "vscode": {
   "interpreter": {
    "hash": "40590ebb26e95edc6c1f3a8a7137aad132b51444b5d516fe05a60311a56b75f0"
   }
  }
 },
 "nbformat": 4,
 "nbformat_minor": 2
}
