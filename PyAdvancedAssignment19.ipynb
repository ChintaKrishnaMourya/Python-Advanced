{
 "cells": [
  {
   "attachments": {},
   "cell_type": "markdown",
   "metadata": {},
   "source": [
    "### Define the relationship between a class and its instances. Is it a one-to-one or a one-to-many partnership, for example?\n",
    "\n",
    "Relationship between class and isntace is one to many partnership.\n",
    "\n",
    "Eg:if you have a class Person, you can create multiple instances of that class, such as person1, person2, person3, etc. Each instance of the class has its own set of properties and behaviors, but they are all based on the blueprint defined by the class."
   ]
  },
  {
   "attachments": {},
   "cell_type": "markdown",
   "metadata": {},
   "source": [
    "### Q2. What kind of data is held only in an instance?\n",
    "\n",
    "Data is specific to a particular instance of a class is held only in that instance. This means that changes made to the data in one instance do not affect the data in other instances of the same class. "
   ]
  },
  {
   "attachments": {},
   "cell_type": "markdown",
   "metadata": {},
   "source": [
    "### Q3. What kind of knowledge is stored in a class?\n",
    "\n",
    "In a class, knowledge is stored as \"attributes\", \"behaviour\", \"methods\".\n",
    "A class stores knowledge about the structure and behavior of objects of that class. This knowledge is used to define the blueprint for creating instances of the class,"
   ]
  },
  {
   "attachments": {},
   "cell_type": "markdown",
   "metadata": {},
   "source": [
    "### Q4. What exactly is a method, and how is it different from a regular function?\n",
    "\n",
    "A method is a function in a class. It operates on instances of the object or class and has access to the attributes and properties.\n",
    "\n",
    "Regular functions, pieces of code that are not associated with any specific object or class.\n"
   ]
  },
  {
   "attachments": {},
   "cell_type": "markdown",
   "metadata": {},
   "source": [
    "### Q5. Is inheritance supported in Python, and if so, what is the syntax?\n",
    "\n",
    "Inheitence is supported in python OOPs. When we creating a child class,.\n",
    "\n",
    "Syntax: "
   ]
  },
  {
   "cell_type": "code",
   "execution_count": 1,
   "metadata": {},
   "outputs": [],
   "source": [
    "class ParentClass:\n",
    "    def __init__(self) -> None:\n",
    "        pass\n",
    "class Childclass(ParentClass):\n",
    "    def __init__(self) -> None:\n",
    "        super().__init__()"
   ]
  },
  {
   "attachments": {},
   "cell_type": "markdown",
   "metadata": {},
   "source": [
    "### Q6. How much encapsulation (making instance or class variables private) does Python support?\n",
    "\n",
    "Python supports limited encapsulation. If we want to ensure that an attribute or method is truly private, we should not access it directly from outside the clas"
   ]
  },
  {
   "attachments": {},
   "cell_type": "markdown",
   "metadata": {},
   "source": [
    "### Q7. How do you distinguish between a class variable and an instance variable?\n",
    "\n",
    " class variables are shared by all instances of a class, and instance variables are unique to each instance of a class."
   ]
  },
  {
   "attachments": {},
   "cell_type": "markdown",
   "metadata": {},
   "source": [
    "### Q8. When, if ever, can self be included in a class's method definitions?\n",
    "Yes, self can included in class method definations to access the instance variables inside class methods.\n"
   ]
  },
  {
   "attachments": {},
   "cell_type": "markdown",
   "metadata": {},
   "source": [
    "### Q9. What is the difference between the __ add__ and the __ radd__ methods?\n",
    "\n",
    "__ add__ method is called when the left-hand operand of the + operator is an instance of the class.\n",
    "\n",
    "__ radd__ method is called when the right-hand operand of the + operator is an instance of the class.\n",
    "\n",
    "These methods allow objects of a class to be added together using the + operator, resulting in a new instance of the class."
   ]
  },
  {
   "attachments": {},
   "cell_type": "markdown",
   "metadata": {},
   "source": [
    "### Q10. When is it necessary to use a reflection method? When do you not need it, even though you support the operation in question?\n",
    "\n",
    "Reflection method is used to customize the behavior of certain special methods. Reflection methods are necessary when we want to provide custom behavior for a certain operation.\n",
    "\n",
    "We do not need to use a reflection method if the default behavior for the operation in question is sufficient for your needs."
   ]
  },
  {
   "attachments": {},
   "cell_type": "markdown",
   "metadata": {},
   "source": [
    "### Q11. What is the __ iadd__ method called?\n",
    "\n",
    "__ iadd__ method is called the \"in-place addition\" method. It is used to define the behavior of the in-place addition operator += for instances of a class. "
   ]
  },
  {
   "attachments": {},
   "cell_type": "markdown",
   "metadata": {},
   "source": [
    "### Q12. Is the __ init__ method inherited by subclasses? What do you do if you need to customize its behavior within a subclass?\n",
    "__ init__ method will be inherited by subclasses. To customize its behavior within a subclass, we can use super() method"
   ]
  },
  {
   "cell_type": "code",
   "execution_count": null,
   "metadata": {},
   "outputs": [],
   "source": []
  }
 ],
 "metadata": {
  "kernelspec": {
   "display_name": "Python 3",
   "language": "python",
   "name": "python3"
  },
  "language_info": {
   "codemirror_mode": {
    "name": "ipython",
    "version": 3
   },
   "file_extension": ".py",
   "mimetype": "text/x-python",
   "name": "python",
   "nbconvert_exporter": "python",
   "pygments_lexer": "ipython3",
   "version": "3.10.10"
  },
  "orig_nbformat": 4,
  "vscode": {
   "interpreter": {
    "hash": "40590ebb26e95edc6c1f3a8a7137aad132b51444b5d516fe05a60311a56b75f0"
   }
  }
 },
 "nbformat": 4,
 "nbformat_minor": 2
}
