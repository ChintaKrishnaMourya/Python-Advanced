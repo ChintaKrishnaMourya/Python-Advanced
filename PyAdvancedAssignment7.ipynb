{
 "cells": [
  {
   "attachments": {},
   "cell_type": "markdown",
   "metadata": {},
   "source": [
    "### Q1. What is the purpose of the try statement?\n",
    "\n",
    "Try  statement is used for handling exception in python. It contains the code that may cuase error in run time. If error prevails then it is captured by except block. It helps in avaoid program crash during runtime."
   ]
  },
  {
   "attachments": {},
   "cell_type": "markdown",
   "metadata": {},
   "source": [
    "### Q2. What are the two most popular try statement variations?\n",
    "\n",
    "try/except : Try -except handle block of code that may cause errror an handled by exception block. \n",
    "\n",
    "try/finally : This statment is used to specify actions to be executed at termination time. Finally block contains code that must be executed regardless of exception occurs or not.\n"
   ]
  },
  {
   "attachments": {},
   "cell_type": "markdown",
   "metadata": {},
   "source": [
    "### Q3. What is the purpose of the raise statement?\n",
    "\n",
    "Raise statement is used to trigger an exception. If error occred, raise statement helps in triggering exception as per code logic."
   ]
  },
  {
   "attachments": {},
   "cell_type": "markdown",
   "metadata": {},
   "source": [
    "### Q4. What does the assert statement do, and what other statement is it like?\n",
    "\n",
    "\"assert\" statement is used to check if condition is true and raise an \"AssertionError\" if it is not."
   ]
  },
  {
   "attachments": {},
   "cell_type": "markdown",
   "metadata": {},
   "source": [
    "### Q5. What is the purpose of the with/as argument, and what other statement is it like?\n",
    "\n",
    "When \"with\" statement is used, there is no need to call the file.close() fucntion as it is closed automatically. With statement ensures that it avoids triggering of exceptions if file closing is unknowingly forgotten."
   ]
  }
 ],
 "metadata": {
  "language_info": {
   "name": "python"
  },
  "orig_nbformat": 4
 },
 "nbformat": 4,
 "nbformat_minor": 2
}
