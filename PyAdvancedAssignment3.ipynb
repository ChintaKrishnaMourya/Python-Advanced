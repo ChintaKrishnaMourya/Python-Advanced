{
 "cells": [
  {
   "attachments": {},
   "cell_type": "markdown",
   "metadata": {},
   "source": [
    "### 1. What is the concept of an abstract superclass?\n",
    "\n",
    "Abstract superclass is the blueprint for other classes. But it is instantiated directly as an object. It allows to create a set of methods that must be created within any child classes.\n",
    "\n",
    "It is defined by using \"abc\" module which has a baseclass named \"ABC\"."
   ]
  },
  {
   "attachments": {},
   "cell_type": "markdown",
   "metadata": {},
   "source": [
    "### 2. What happens when a class statement&#39;s top level contains a basic assignment statement?\n",
    "\n",
    "When a class statement's top level contains a basic assignment statment, it creates an attribute of the class. A class variable is a variable associated with a class as a whole, rather than with individual instances of the class. That means it is defined outside the __ int__ method."
   ]
  },
  {
   "attachments": {},
   "cell_type": "markdown",
   "metadata": {},
   "source": [
    "### 3. Why does a class need to manually call a superclass&#39;s __init__ method?\n",
    "\n",
    "Because the childclass overrrides the __ init__ method of its superclass. So we need to manually call a superclass's __ init__ method."
   ]
  },
  {
   "attachments": {},
   "cell_type": "markdown",
   "metadata": {},
   "source": [
    "### 4. How can you augment, instead of completely replacing, an inherited method?\n",
    "\n",
    "To augment , instead of replacing an inherited method, you can call the inherited method using the super() function and we have to add the additional behaviour after the calling super()."
   ]
  },
  {
   "attachments": {},
   "cell_type": "markdown",
   "metadata": {},
   "source": [
    "### 5. How is the local scope of a class different from that of a function?\n",
    "\n",
    "In class, local scope is created when class definition is executed and lasts for lifetime of the program whereas the local scope of fucntion is creared each tyime when the fucntion is called and its duration."
   ]
  }
 ],
 "metadata": {
  "language_info": {
   "name": "python"
  },
  "orig_nbformat": 4
 },
 "nbformat": 4,
 "nbformat_minor": 2
}
