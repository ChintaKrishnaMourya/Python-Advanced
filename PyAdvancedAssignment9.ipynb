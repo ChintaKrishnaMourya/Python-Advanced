{
 "cells": [
  {
   "attachments": {},
   "cell_type": "markdown",
   "metadata": {},
   "source": [
    "### Q1. In Python 3.X, what are the names and functions of string object types?\n",
    "There are several string object types:\n",
    "capitalize(), count(), isupper(), upper(), islower(), lower(), strip(), split(),  etc. \n",
    "\n",
    "Python provides many functions for object types. "
   ]
  },
  {
   "attachments": {},
   "cell_type": "markdown",
   "metadata": {},
   "source": [
    "### Q2. How do the string forms in Python 3.X vary in terms of operations?\n",
    "\n",
    "In python 3.X , strings are stored as unicode by default, that provides support for a wide range of characters and scripts."
   ]
  },
  {
   "attachments": {},
   "cell_type": "markdown",
   "metadata": {},
   "source": [
    "### Q3. In 3.X, how do you put non-ASCII Unicode characters in a string?\n",
    "In python 3.X , we can put non-ASCII unicode characters in string by \"str\" data type and enclosing the text in quotes. \n"
   ]
  },
  {
   "attachments": {},
   "cell_type": "markdown",
   "metadata": {},
   "source": [
    "### Q4. In Python 3.X, what are the key differences between text-mode and binary-mode files?\n",
    "\n",
    "Text file contains data in the form of text,digitd, special characters or symbols. Binary file contains binary data and may include encoded multimedia, files, etc.\n",
    "\n",
    "Text mode and binary mode are the way the data is stored. File size of binary mode files is usually larger in size than their text mode counterparts.\n",
    " "
   ]
  },
  {
   "attachments": {},
   "cell_type": "markdown",
   "metadata": {},
   "source": [
    "### Q5. How can you interpret a Unicode text file containing text encoded in a different encoding than your platform's default?\n",
    "We can use encode() and decode() methods to interpret a unicode text file encoded in different encoding than your platform's default."
   ]
  },
  {
   "attachments": {},
   "cell_type": "markdown",
   "metadata": {},
   "source": [
    "### Q6. What is the best way to make a Unicode text file in a particular encoding format?\n",
    "We can make a unicode text file in a particular encoding format by open() function. Open() has an argument \"encoding=\", we caan define the encoding format ih that.\n",
    "\n",
    "with open(\"test.txt\",\"w\",encoding = \" \")"
   ]
  },
  {
   "attachments": {},
   "cell_type": "markdown",
   "metadata": {},
   "source": [
    "### Q7. What qualifies ASCII text as a form of Unicode text?\n",
    "\n",
    "ASCII text can be considered as unicodde text because it is a subset of unicode ands can be encoded as unicode.\n",
    "In python ,ASCII can be treated as form of unicode text by specifying the appropriate encoding.\n",
    "\n",
    "with open(\"test.txt\",\"w\",encoding= \"ascii\") as file\n",
    "\n",
    "file.write(\"iNeuron\")"
   ]
  },
  {
   "attachments": {},
   "cell_type": "markdown",
   "metadata": {},
   "source": [
    "### Q8. How much of an effect does the change in string types in Python 3.X have on your code?\n",
    "\n",
    "In python 3.X, the string type is unicode by default,in earlier versions of python, string type was ASCII by default.\n",
    "\n",
    "The change in string types in Python 3.x can have a significant impact on our code, and it's important to  test our code and make any necessary updates to ensure that it works correctly in Python 3.X."
   ]
  },
  {
   "cell_type": "markdown",
   "metadata": {},
   "source": []
  }
 ],
 "metadata": {
  "kernelspec": {
   "display_name": "Python 3",
   "language": "python",
   "name": "python3"
  },
  "language_info": {
   "name": "python",
   "version": "3.10.10"
  },
  "orig_nbformat": 4,
  "vscode": {
   "interpreter": {
    "hash": "40590ebb26e95edc6c1f3a8a7137aad132b51444b5d516fe05a60311a56b75f0"
   }
  }
 },
 "nbformat": 4,
 "nbformat_minor": 2
}
