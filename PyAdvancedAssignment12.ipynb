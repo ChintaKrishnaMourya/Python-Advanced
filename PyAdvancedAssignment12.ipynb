{
 "cells": [
  {
   "attachments": {},
   "cell_type": "markdown",
   "metadata": {},
   "source": [
    "### Q1. Does assigning a value to a string's indexed character violate Python's string immutability?\n",
    "\n",
    "Assigning a value to a string's indexed character violates python's string immutability.\n",
    "Strings are immutable, we can not chande once they are created.\n"
   ]
  },
  {
   "cell_type": "code",
   "execution_count": 1,
   "metadata": {},
   "outputs": [
    {
     "name": "stdout",
     "output_type": "stream",
     "text": [
      "s[3] = u\n"
     ]
    },
    {
     "ename": "TypeError",
     "evalue": "'str' object does not support item assignment",
     "output_type": "error",
     "traceback": [
      "\u001b[1;31m---------------------------------------------------------------------------\u001b[0m",
      "\u001b[1;31mTypeError\u001b[0m                                 Traceback (most recent call last)",
      "Cell \u001b[1;32mIn[1], line 4\u001b[0m\n\u001b[0;32m      1\u001b[0m s\u001b[39m=\u001b[39m \u001b[39m\"\u001b[39m\u001b[39miNeuron\u001b[39m\u001b[39m\"\u001b[39m\n\u001b[0;32m      2\u001b[0m \u001b[39mprint\u001b[39m(\u001b[39m\"\u001b[39m\u001b[39ms[3] =\u001b[39m\u001b[39m\"\u001b[39m,s[\u001b[39m3\u001b[39m])\n\u001b[1;32m----> 4\u001b[0m s[\u001b[39m3\u001b[39;49m]\u001b[39m=\u001b[39m\u001b[39m\"\u001b[39m\u001b[39mm\u001b[39m\u001b[39m\"\u001b[39m\n",
      "\u001b[1;31mTypeError\u001b[0m: 'str' object does not support item assignment"
     ]
    }
   ],
   "source": [
    "s= \"iNeuron\"\n",
    "print(\"s[3] =\",s[3])\n",
    "\n",
    "s[3]=\"m\""
   ]
  },
  {
   "attachments": {},
   "cell_type": "markdown",
   "metadata": {},
   "source": [
    "### Q2. Does using the += operator to concatenate strings violate Python's string immutability? Why or why not?\n",
    "\n",
    "Using += operator to concatenate strings doesnt violate immutability, but it will create a new string."
   ]
  },
  {
   "cell_type": "code",
   "execution_count": 2,
   "metadata": {},
   "outputs": [
    {
     "name": "stdout",
     "output_type": "stream",
     "text": [
      "Before using +=  i\n",
      "After using +=  iNeuron\n"
     ]
    }
   ],
   "source": [
    "s1 = \"i\"\n",
    "print(\"Before using += \",s1)\n",
    "s2 = \"Neuron\"\n",
    "s1+=s2\n",
    "print(\"After using += \",s1)"
   ]
  },
  {
   "attachments": {},
   "cell_type": "markdown",
   "metadata": {},
   "source": [
    "### Q3. In Python, how many different ways are there to index a character?\n",
    "By using square brackets(positive, negative indexing), by slicing, \n"
   ]
  },
  {
   "cell_type": "code",
   "execution_count": 3,
   "metadata": {},
   "outputs": [
    {
     "name": "stdout",
     "output_type": "stream",
     "text": [
      "Using positive Indexing : st[3]= u\n",
      "Using Negative indexing : st[-4]= u\n",
      "Using Slicing : st[1:4]= Neu\n"
     ]
    }
   ],
   "source": [
    "st = \"iNeuron\"\n",
    "print(\"Using positive Indexing : st[3]=\",st[3])\n",
    "print(\"Using Negative indexing : st[-4]=\",st[-4])\n",
    "print(\"Using Slicing : st[1:4]=\",st[1:4])"
   ]
  },
  {
   "attachments": {},
   "cell_type": "markdown",
   "metadata": {},
   "source": [
    "### Q4. What is the relationship between indexing and slicing?\n",
    "By using indexing and slicing we can access the elements of list, strings, tuples etc.\n",
    "\n",
    "Indexing gives the value at a particular index number. While, slicing means it gives the elements between in that range, we can use step(how many characters to jump).\n",
    "\n",
    "Indexing = string[index number]\n",
    "\n",
    "Slicing = string[start:stop:step]"
   ]
  },
  {
   "attachments": {},
   "cell_type": "markdown",
   "metadata": {},
   "source": [
    "### Q5. What is an indexed character's exact data type? What is the data form of a slicing-generated substring?\n",
    "\n",
    "When indexing or slicing the string, the datatype of generated substring is same : STRING."
   ]
  },
  {
   "cell_type": "code",
   "execution_count": 4,
   "metadata": {},
   "outputs": [
    {
     "name": "stdout",
     "output_type": "stream",
     "text": [
      "Using Indexing : st[3]= <class 'str'>\n",
      "Using Slicing : st[1:4]= <class 'str'>\n"
     ]
    }
   ],
   "source": [
    "st = \"iNeuron\"\n",
    "print(\"Using Indexing : st[3]=\",type(st[3]))\n",
    "print(\"Using Slicing : st[1:4]=\",type(st[1:4]))"
   ]
  },
  {
   "attachments": {},
   "cell_type": "markdown",
   "metadata": {},
   "source": [
    "### Q6. What is the relationship between string and character \"types\" in Python?\n",
    "\n",
    "In python, a string is a type of object of class \"str\" and each characrter in the string is considered a separate instance of \"str\" class."
   ]
  },
  {
   "attachments": {},
   "cell_type": "markdown",
   "metadata": {},
   "source": [
    "### Q7. Identify at least two operators and one method that allow you to combine one or more smaller strings to create a larger string.\n",
    "\n",
    "Two operator : + or += ,* . With these operator, we can combine one or more smaller strings to large.\n",
    "\n",
    "Method : join(). With join(), we can concatenante a list of strings into one string."
   ]
  },
  {
   "attachments": {},
   "cell_type": "markdown",
   "metadata": {},
   "source": [
    "### Q8. What is the benefit of first checking the target string with in or not in before using the index method to find a substring?\n",
    "\n",
    "Benefit is to avoid errors. If the string is not found, it will give ValueError"
   ]
  },
  {
   "cell_type": "code",
   "execution_count": 25,
   "metadata": {},
   "outputs": [
    {
     "name": "stdout",
     "output_type": "stream",
     "text": [
      "Index of given letter : 3\n"
     ]
    },
    {
     "ename": "ValueError",
     "evalue": "substring not found",
     "output_type": "error",
     "traceback": [
      "\u001b[1;31m---------------------------------------------------------------------------\u001b[0m",
      "\u001b[1;31mValueError\u001b[0m                                Traceback (most recent call last)",
      "Cell \u001b[1;32mIn[25], line 3\u001b[0m\n\u001b[0;32m      1\u001b[0m string \u001b[39m=\u001b[39m \u001b[39m\"\u001b[39m\u001b[39mineuron\u001b[39m\u001b[39m\"\u001b[39m\n\u001b[0;32m      2\u001b[0m \u001b[39mprint\u001b[39m(\u001b[39m\"\u001b[39m\u001b[39mIndex of given letter :\u001b[39m\u001b[39m\"\u001b[39m,string\u001b[39m.\u001b[39mindex(\u001b[39m'\u001b[39m\u001b[39mu\u001b[39m\u001b[39m'\u001b[39m))\n\u001b[1;32m----> 3\u001b[0m \u001b[39mprint\u001b[39m(string\u001b[39m.\u001b[39;49mindex(\u001b[39m'\u001b[39;49m\u001b[39mx\u001b[39;49m\u001b[39m'\u001b[39;49m))\n",
      "\u001b[1;31mValueError\u001b[0m: substring not found"
     ]
    }
   ],
   "source": [
    "string = \"ineuron\"\n",
    "print(\"Index of given letter :\",string.index('u'))\n",
    "print(string.index('x'))\n"
   ]
  },
  {
   "attachments": {},
   "cell_type": "markdown",
   "metadata": {},
   "source": [
    "### Q9. Which operators and built-in string methods produce simple Boolean (true/false) results?\n",
    "\n",
    "String operators and built in string methods are :\n",
    "\n",
    "==, \"in\",\"not in\",\"is & not is\"  ==> operators.\n",
    "\n",
    "isalnum, isalpha, isdigit, islower, isupper, istitle etc ==> methods"
   ]
  },
  {
   "cell_type": "markdown",
   "metadata": {},
   "source": []
  }
 ],
 "metadata": {
  "kernelspec": {
   "display_name": "Python 3",
   "language": "python",
   "name": "python3"
  },
  "language_info": {
   "codemirror_mode": {
    "name": "ipython",
    "version": 3
   },
   "file_extension": ".py",
   "mimetype": "text/x-python",
   "name": "python",
   "nbconvert_exporter": "python",
   "pygments_lexer": "ipython3",
   "version": "3.10.10"
  },
  "orig_nbformat": 4,
  "vscode": {
   "interpreter": {
    "hash": "40590ebb26e95edc6c1f3a8a7137aad132b51444b5d516fe05a60311a56b75f0"
   }
  }
 },
 "nbformat": 4,
 "nbformat_minor": 2
}
