{
 "cells": [
  {
   "attachments": {},
   "cell_type": "markdown",
   "metadata": {},
   "source": [
    "### Q1. Describe the differences between text and binary files in a single paragraph.\n",
    "\n",
    "Text files contain human readable data.  These files are used to store text-based information, such as source code, written documents, and configuration files. Binary files contain non human readable data represented in binary format. Used to store  images, videos, and other types of media."
   ]
  },
  {
   "attachments": {},
   "cell_type": "markdown",
   "metadata": {},
   "source": [
    "### Q2. What are some scenarios where using text files will be the better option? When would you like to use binary files instead of text files?\n",
    "\n",
    "Using Text files will be better option when Storing plain text like csv files that can be human edited and written documents etc.\n",
    "\n",
    "Using binary files will be better option when storing images, videos etc . BInary files can store large amount of data efficiently. When data needs to be protected from modificationm, binary files are not easily edited and corrupted."
   ]
  },
  {
   "attachments": {},
   "cell_type": "markdown",
   "metadata": {},
   "source": [
    "### Q3. What are some of the issues with using binary operations to read and write a Python integer directly to disc?\n",
    "Python integers can be arbitrarily large, but the size of the integer representation in binary format may be limited by the underlying computer architecture. Binary representation of data may change between different versions of Python, making it difficult to maintain compatibility over time.\n",
    "Binary operations deal with raw data. "
   ]
  },
  {
   "attachments": {},
   "cell_type": "markdown",
   "metadata": {},
   "source": [
    "### Q4. Describe a benefit of using the with keyword instead of explicitly opening a file.\n",
    "\n",
    "Using with keyword, helps us to open the file and close the file after output. No need to write file.close() function in the code."
   ]
  },
  {
   "attachments": {},
   "cell_type": "markdown",
   "metadata": {},
   "source": [
    "### Q5. Does Python have the trailing newline while reading a line of text? Does Python append a newline when you write a line of text?\n",
    "Yes, Python have the trailing newline while reading a line of text. Python append a newline when we write a line of text, we have to open the file in \"append\" mode.\n"
   ]
  },
  {
   "attachments": {},
   "cell_type": "markdown",
   "metadata": {},
   "source": [
    "### Q6. What file operations enable for random-access operation?\n",
    "\n",
    "we can use seek() and tell() operations for random-access operation."
   ]
  },
  {
   "attachments": {},
   "cell_type": "markdown",
   "metadata": {},
   "source": [
    "### Q7. When do you think you'll use the struct package the most?\n",
    "\n",
    "While converting a common python types to c type, we use struct package."
   ]
  },
  {
   "attachments": {},
   "cell_type": "markdown",
   "metadata": {},
   "source": [
    "### Q8. When is pickling the best option?\n",
    "To create a new binary, pickling is best option.\n"
   ]
  },
  {
   "attachments": {},
   "cell_type": "markdown",
   "metadata": {},
   "source": [
    "### Q9. When will it be best to use the shelve package?\n",
    "\n",
    "It is used to pickle data. It treats entire file as directory."
   ]
  },
  {
   "attachments": {},
   "cell_type": "markdown",
   "metadata": {},
   "source": [
    "### Q10. What is a special restriction when using the shelve package, as opposed to using other data dictionaries?\n",
    "\n",
    "The speical restriction when using the shelve package, as opposed to using other data dictionaries is that keys must be strings and values must be pickable python objects."
   ]
  },
  {
   "cell_type": "code",
   "execution_count": null,
   "metadata": {},
   "outputs": [],
   "source": []
  }
 ],
 "metadata": {
  "language_info": {
   "name": "python"
  },
  "orig_nbformat": 4
 },
 "nbformat": 4,
 "nbformat_minor": 2
}
