{
 "cells": [
  {
   "attachments": {},
   "cell_type": "markdown",
   "metadata": {},
   "source": [
    "### Q1. Explain the difference between greedy and non-greedy syntax with visual terms in as few words as possible. What is the bare minimum effort required to transform a greedy pattern into a non-greedy one? What characters or characters can you introduce or change?\n",
    "\n",
    "In regex, greedy and non-greedy syntax used to match longest possible string or shorted possible string.\n",
    "\n",
    "If pattern is '.*', it will match entire string.\n",
    "\n",
    "If pattern is '.*?', it will try to match as few repetitions of the quantified pattern as possible."
   ]
  },
  {
   "cell_type": "code",
   "execution_count": 6,
   "metadata": {},
   "outputs": [
    {
     "name": "stdout",
     "output_type": "stream",
     "text": [
      "['oooo', '']\n",
      "['', 'o', '', 'o', '', 'o', '', 'o', '']\n"
     ]
    }
   ],
   "source": [
    "import re\n",
    "print(re.findall(\"o*\", \"oooo\")) # Greedy match\n",
    "print(re.findall(\"o*?\", \"oooo\")) # non greedy"
   ]
  },
  {
   "attachments": {},
   "cell_type": "markdown",
   "metadata": {},
   "source": [
    "### Q2. When exactly does greedy versus non-greedy make a difference?  What if you're looking for a non-greedy match but the only one available is greedy?\n",
    "\n",
    "Greedy syntax will try to match as much of the string as possible , and non-greedy syntax will try to match as little of the string possible.\n",
    "\n",
    "If we're looking for a non-greedy match but the only one available is a greedy match : we can modify the pattern to make it non-greedy. This can be done by adding a \"?\"."
   ]
  },
  {
   "attachments": {},
   "cell_type": "markdown",
   "metadata": {},
   "source": [
    "### Q3. In a simple match of a string, which looks only for one match and does not do any replacement, is the use of a nontagged group likely to make any practical difference?\n",
    "\n",
    "In a simple match of a string, the use of a nontagged group make practical difference. "
   ]
  },
  {
   "attachments": {},
   "cell_type": "markdown",
   "metadata": {},
   "source": [
    "### Q4. Describe a scenario in which using a nontagged category would have a significant impact on the program's outcomes.\n",
    "\n",
    "In this scenario, non tagged groups would not give us access to individual parts of the matched text.  We have to use tagged groups, we can extract the individual parts."
   ]
  },
  {
   "cell_type": "code",
   "execution_count": 3,
   "metadata": {},
   "outputs": [
    {
     "name": "stdout",
     "output_type": "stream",
     "text": [
      "12 02 2023\n"
     ]
    }
   ],
   "source": [
    "import re\n",
    "text = \"Today's date is 12/02/2023\"\n",
    "pattern = \".*(\\d\\d)/(\\d\\d)/(\\d\\d\\d\\d)\"\n",
    "match = re.search(pattern, text)\n",
    "day = match.group(1)\n",
    "month = match.group(2)\n",
    "year = match.group(3)\n",
    "print(day, month, year)\n"
   ]
  },
  {
   "attachments": {},
   "cell_type": "markdown",
   "metadata": {},
   "source": [
    "### Q5. Unlike a normal regex pattern, a look-ahead condition does not consume the characters it examines. Describe a situation in which this could make a difference in the results of your programme.\n",
    "\n",
    "positive look ahead makes a difference While counting the number of multiple lines or mutiple sentence in a string. without which we wont get the correct count of lines or sentences in a string."
   ]
  },
  {
   "attachments": {},
   "cell_type": "markdown",
   "metadata": {},
   "source": [
    "### Q6. In standard expressions, what is the difference between positive look-ahead and negative look-ahead?\n",
    "Positive look ahead : Will look to make sure element in the search pattern is there, but wont actually match it. It uses (?=...). \"...\" is the required part that is not matched.\n",
    "\n",
    "Negative look ahead : Will look to make sure the element in the search pattern is not there. It uses (?!...)"
   ]
  },
  {
   "attachments": {},
   "cell_type": "markdown",
   "metadata": {},
   "source": [
    "### Q7. What is the benefit of referring to groups by name rather than by number in a standard expression?\n",
    "\n",
    "It helps code clear and easy to understand."
   ]
  },
  {
   "attachments": {},
   "cell_type": "markdown",
   "metadata": {},
   "source": [
    "### Q8. Can you identify repeated items within a target string using named groups, as in &quot;The cow jumped over the moon&quot;?\n",
    "\n",
    "We can identify repeated items within a target string using named groups."
   ]
  },
  {
   "cell_type": "code",
   "execution_count": 6,
   "metadata": {},
   "outputs": [
    {
     "data": {
      "text/plain": [
       "['The', 'the']"
      ]
     },
     "execution_count": 6,
     "metadata": {},
     "output_type": "execute_result"
    }
   ],
   "source": [
    "import re\n",
    "text = \"The cow jumped over the moon\"\n",
    "regobj=re.compile(r'(?P<w1>The)',re.I)\n",
    "regobj.findall(text)\n"
   ]
  },
  {
   "attachments": {},
   "cell_type": "markdown",
   "metadata": {},
   "source": [
    "### Q9. When parsing a string, what is at least one thing that the Scanner interface does for you that the re.findall feature does not?\n",
    "\n",
    "re.findall : used to search for all occurrences that match a given pattern. It returns a list of all non-overlapping matches of a pattern in a string as a list of strings."
   ]
  },
  {
   "attachments": {},
   "cell_type": "markdown",
   "metadata": {},
   "source": [
    "### Q10. Does a scanner object have to be named scanner?\n",
    "I think no. We can name anything within the rules of naming variable. "
   ]
  }
 ],
 "metadata": {
  "kernelspec": {
   "display_name": "Python 3",
   "language": "python",
   "name": "python3"
  },
  "language_info": {
   "codemirror_mode": {
    "name": "ipython",
    "version": 3
   },
   "file_extension": ".py",
   "mimetype": "text/x-python",
   "name": "python",
   "nbconvert_exporter": "python",
   "pygments_lexer": "ipython3",
   "version": "3.10.10"
  },
  "orig_nbformat": 4,
  "vscode": {
   "interpreter": {
    "hash": "40590ebb26e95edc6c1f3a8a7137aad132b51444b5d516fe05a60311a56b75f0"
   }
  }
 },
 "nbformat": 4,
 "nbformat_minor": 2
}
