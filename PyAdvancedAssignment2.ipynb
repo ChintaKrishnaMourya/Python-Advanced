{
 "cells": [
  {
   "attachments": {},
   "cell_type": "markdown",
   "metadata": {},
   "source": [
    "# These are answers to the given questions."
   ]
  },
  {
   "attachments": {},
   "cell_type": "markdown",
   "metadata": {},
   "source": [
    "### Q1. What is the relationship between classes and modules?\n",
    "\n",
    "A class is a blueprint for creating instances. It contains attributes and methods. Objects characterize these attributes and methods.\n",
    "\n",
    "A module is a file that contains definitions and statements. Modules organise code into a single unit. By import the modules , we can define funtions in that modules."
   ]
  },
  {
   "attachments": {},
   "cell_type": "markdown",
   "metadata": {},
   "source": [
    "### Q2. How do you make instances and classes?\n",
    "\n",
    "We can makes instacne of the class using class name by calling it. We create the class by uding the keyword class followeed by name and colon. And then we define the attributes and methods to it.\n",
    "\n",
    "eg:"
   ]
  },
  {
   "cell_type": "code",
   "execution_count": 1,
   "metadata": {},
   "outputs": [],
   "source": [
    "class person:\n",
    "    def __init__(self, height, weight):\n",
    "        self.height = height\n",
    "        self.weight = weight\n",
    "\n",
    "    def BMI(self):\n",
    "        bmi = self.weight/self.height**2 #height in \"m\", weight in \"kg\"\n",
    "        return bmi"
   ]
  },
  {
   "cell_type": "code",
   "execution_count": 4,
   "metadata": {},
   "outputs": [],
   "source": [
    "mourya = person(1.78,76)"
   ]
  },
  {
   "cell_type": "code",
   "execution_count": 5,
   "metadata": {},
   "outputs": [
    {
     "data": {
      "text/plain": [
       "23.98687034465345"
      ]
     },
     "execution_count": 5,
     "metadata": {},
     "output_type": "execute_result"
    }
   ],
   "source": [
    "mourya.BMI()"
   ]
  },
  {
   "attachments": {},
   "cell_type": "markdown",
   "metadata": {},
   "source": [
    "### Q3. Where and how should be class attributes created?\n",
    "Class attributes are shared by instances of the class. We can create attribute outside the method under the class definition or to have an attribute that is unique to each instance, we should definie it in __ init__ method as an instance attribute. "
   ]
  },
  {
   "attachments": {},
   "cell_type": "markdown",
   "metadata": {},
   "source": [
    "### Q4. Where and how are instance attributes created?\n",
    "\n",
    "Instance attributes are attributes that are unique for each instance of the class. They are created inside the __ init__ method of a class."
   ]
  },
  {
   "attachments": {},
   "cell_type": "markdown",
   "metadata": {},
   "source": [
    "### Q5. What does the term &quot;self&quot; in a Python class mean?\n",
    "\n",
    "when we create a method in the class, first argument we pass is \"self\", which refers to the instasnce of the class that is calling the method. It is a special word that refers to the instancew of the class. We can use any other word in place of \"self\" , but using \"self\" is a convention."
   ]
  },
  {
   "attachments": {},
   "cell_type": "markdown",
   "metadata": {},
   "source": [
    "### Q6. How does a Python class handle operator overloading?\n",
    "In python class, we use special methods in the class to handle operator overloading. To define the behaviour of the operator \"+\", we can define __ add__ in the class. __ sub__ for \"-\", __ mul__ for \"*\", etc.\n"
   ]
  },
  {
   "attachments": {},
   "cell_type": "markdown",
   "metadata": {},
   "source": [
    "### Q7. When do you consider allowing operator overloading of your classes?\n",
    "\n",
    "Allowing operator overloading is based on when the instacnes of the class behave in the way we are defining. For example, mathematical vectors or complex numbers, we can consider allowing operator overloading for operators, since we cad do mathemtical operators on vectors and complex numbers."
   ]
  },
  {
   "attachments": {},
   "cell_type": "markdown",
   "metadata": {},
   "source": [
    "### Q8. What is the most popular form of operator overloading?\n",
    "\n",
    "Most popular form of operator overloading is overloading mathematical operators. Overloading these operators is easier when the instances ofthe  class behave in the way thatr is similar to \"int\", \"float\"."
   ]
  },
  {
   "attachments": {},
   "cell_type": "markdown",
   "metadata": {},
   "source": [
    "### Q9. What are the two most important concepts to grasp in order to comprehend Python OOP code?\n",
    "\n",
    "To comprehend the OOPs code, we have to grasp the concepts  \"Class & \"Object\",\"Inheritance\",\"Polymorphism\". When we understand these comcepts, it is easier for us to comprehend the structure and behavior of the code."
   ]
  },
  {
   "cell_type": "code",
   "execution_count": null,
   "metadata": {},
   "outputs": [],
   "source": []
  }
 ],
 "metadata": {
  "kernelspec": {
   "display_name": "Python 3",
   "language": "python",
   "name": "python3"
  },
  "language_info": {
   "codemirror_mode": {
    "name": "ipython",
    "version": 3
   },
   "file_extension": ".py",
   "mimetype": "text/x-python",
   "name": "python",
   "nbconvert_exporter": "python",
   "pygments_lexer": "ipython3",
   "version": "3.10.10"
  },
  "orig_nbformat": 4,
  "vscode": {
   "interpreter": {
    "hash": "40590ebb26e95edc6c1f3a8a7137aad132b51444b5d516fe05a60311a56b75f0"
   }
  }
 },
 "nbformat": 4,
 "nbformat_minor": 2
}
