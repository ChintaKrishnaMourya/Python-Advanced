{
 "cells": [
  {
   "attachments": {},
   "cell_type": "markdown",
   "metadata": {},
   "source": [
    "### Q1. Is it permissible to use several import statements to import the same module? What would the goal be? Can you think of a situation where it would be beneficial?\n",
    "\n",
    "Yes, it is permissible to use several imports. It can used to import multiple methods from the same module. It is beneficial by making the code more readble."
   ]
  },
  {
   "attachments": {},
   "cell_type": "markdown",
   "metadata": {},
   "source": [
    "### Q2. What are some of a module&#39;s characteristics? (Name at least one.)\n",
    "Modules has several characteristics that make them a useful tool for organizing and maintaining code.\n",
    "Reusability: Modules can be imported and used in multiple projects, making it easy to reuse code and avoid duplicating effort.\n"
   ]
  },
  {
   "attachments": {},
   "cell_type": "markdown",
   "metadata": {},
   "source": [
    "### Q3. Circular importing, such as when two modules import each other, can lead to dependencies and bugs that aren&#39;t visible. How can you go about creating a program that avoids mutual importing?\n",
    "\n",
    "To avoid associated dependencies and bugs by importing the module in main script. We can use if __ name__ == '__ main__'. In the function, you can't directly refer to the function in the program. The addition of this sentence avoids the endless loop of the program ."
   ]
  },
  {
   "attachments": {},
   "cell_type": "markdown",
   "metadata": {},
   "source": [
    "### Q4. Why is __ all__ in Python?\n",
    "\n",
    "It gives the list of all modules in the library"
   ]
  },
  {
   "attachments": {},
   "cell_type": "markdown",
   "metadata": {},
   "source": [
    "### Q5. In what situation is it useful to refer to the __ name__ attribute or the string &#39;__ main__&#39;?\n",
    " __ name__ attribute and the string '__ main__' are used in Python to determine if a module is being run as the main program or if it is being imported as a module into another program.\n"
   ]
  }
 ],
 "metadata": {
  "language_info": {
   "name": "python"
  },
  "orig_nbformat": 4
 },
 "nbformat": 4,
 "nbformat_minor": 2
}
