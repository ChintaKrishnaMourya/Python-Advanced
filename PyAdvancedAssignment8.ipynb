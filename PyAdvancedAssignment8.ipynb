{
 "cells": [
  {
   "attachments": {},
   "cell_type": "markdown",
   "metadata": {},
   "source": [
    "### Q1. What are the two latest user-defined exception constraints in Python 3.X?\n",
    " raise and assert are the two latest user-defined exception constrains in python 3.X"
   ]
  },
  {
   "attachments": {},
   "cell_type": "markdown",
   "metadata": {},
   "source": [
    "### Q2. How are class-based exceptions that have been raised matched to handlers?\n",
    "User can define custom exceptions by creating new class. This exception class has to be derived either directly or indirectly from built in exception class. New exception class can also be raised using the raise statement."
   ]
  },
  {
   "attachments": {},
   "cell_type": "markdown",
   "metadata": {},
   "source": [
    "### Q3. Describe two methods for attaching context information to exception artefacts.\n",
    "\n",
    "Contextual information is added to the logging output by process() method of LoggerAdapt. It passes the message and keyword arguments of the logging call and passes back modified versions of these to use in the call to the underlying logger.\n",
    "\n",
    "exception() method logs a message with level ERROR on this logger. The arguments are interpreted as for debug(). Exception info is added to the logging message."
   ]
  },
  {
   "attachments": {},
   "cell_type": "markdown",
   "metadata": {},
   "source": [
    "### Q4. Describe two methods for specifying the text of an exception object&#39;s error message.\n",
    "\n",
    "raise and error are two methods for specifying the text of an exception object's error message.\n",
    "\n",
    "raise statement is used to trigger the explicit exception if condition is not fulfilled. assert statement takes a condition if true , program executes, if the output is false, then the assert statement raises the AssertionError."
   ]
  },
  {
   "attachments": {},
   "cell_type": "markdown",
   "metadata": {},
   "source": [
    "### Q5. Why do you no longer use string-based exceptions?\n",
    "\n",
    "Because they have several limitations.\n",
    "\n",
    "String based exceptions only provide basic error message, thta makes it difficult to understand the root cause of the error. Debugging string based exceptions can be challenging. \n",
    "\n",
    "Exception objects provide a more structured way of representing errors."
   ]
  },
  {
   "cell_type": "markdown",
   "metadata": {},
   "source": []
  }
 ],
 "metadata": {
  "language_info": {
   "name": "python"
  },
  "orig_nbformat": 4
 },
 "nbformat": 4,
 "nbformat_minor": 2
}
