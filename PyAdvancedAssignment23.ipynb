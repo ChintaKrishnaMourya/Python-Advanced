{
 "cells": [
  {
   "attachments": {},
   "cell_type": "markdown",
   "metadata": {},
   "source": [
    "### Q1. If you have any, what are your choices for increasing the comparison between different figures on the same graph?\n",
    "\n",
    "matplolib provides subplots for increasing the comparison between different figures on the same graph."
   ]
  },
  {
   "attachments": {},
   "cell_type": "markdown",
   "metadata": {},
   "source": [
    "### Q2. Can you explain the benefit of compound interest over a higher rate of interest that does not compound after reading this chapter?\n",
    "\n",
    "compound interest helps us to grow money at a faster rate. It is calculated on both the original amount invested and on the interest that accumulates over time."
   ]
  },
  {
   "attachments": {},
   "cell_type": "markdown",
   "metadata": {},
   "source": [
    "### Q3. What is a histogram, exactly? Name a numpy method for creating such a graph.\n",
    "Histogram is a graphical representation of the distribution of a set of data.\n",
    "\n",
    "numpy.histogram method is used for creating such a graph."
   ]
  },
  {
   "attachments": {},
   "cell_type": "markdown",
   "metadata": {},
   "source": [
    "### Q4. If necessary, how do you change the aspect ratios between the X and Y axes?\n",
    "in the matplotlib.pyplot library, we can use \"aspect\" parameter to set the aspect ratio between the x and y axes."
   ]
  },
  {
   "attachments": {},
   "cell_type": "markdown",
   "metadata": {},
   "source": [
    "### Q5. Compare and contrast the three types of array multiplication between two numpy arrays: dot product, outer product, and regular multiplication of two numpy arrays.\n",
    "\n",
    "Dot product : It is scalar value, obtained by summing the element wise product of 2 arrays. numpy provides dot method or by \"@\" operator .\n",
    "\n",
    "Outer product : outer product of two arrays is a two-dimensional array obtained by taking the product of each element of one array with each element of the other array. outer method of numpy is usedto perform this.\n",
    "\n",
    "Regular multiplication : Regular multiplication of two arrays is an element-wise multiplication.\n",
    "\n"
   ]
  },
  {
   "attachments": {},
   "cell_type": "markdown",
   "metadata": {},
   "source": [
    "### Q6. Before you buy a home, which numpy function will you use to measure your monthly mortgage payment?\n",
    "we can use numpy.pmt function. This calculates the payment amount for a loan, given the loan's present value, interest rate, and number of payments.\n"
   ]
  },
  {
   "attachments": {},
   "cell_type": "markdown",
   "metadata": {},
   "source": [
    "### Q7. Can string data be stored in numpy arrays? If so, list at least one restriction that applies to this data.\n",
    "\n",
    "string data can be stored in numpy array. \n",
    "Restriction : all elements in the same NumPy array must have the same data type."
   ]
  },
  {
   "cell_type": "markdown",
   "metadata": {},
   "source": []
  }
 ],
 "metadata": {
  "language_info": {
   "name": "python"
  },
  "orig_nbformat": 4
 },
 "nbformat": 4,
 "nbformat_minor": 2
}
