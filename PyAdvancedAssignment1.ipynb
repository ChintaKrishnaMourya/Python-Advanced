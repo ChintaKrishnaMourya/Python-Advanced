{
 "cells": [
  {
   "attachments": {},
   "cell_type": "markdown",
   "metadata": {},
   "source": [
    "# These are answers to the given questions."
   ]
  },
  {
   "attachments": {},
   "cell_type": "markdown",
   "metadata": {},
   "source": [
    "### Q1. What is the purpose of Python's OOP?\n",
    "\n",
    "OOPs helps us to write the code in organised way. Benefits are :\n",
    "\n",
    "\"Abstraction\" - Hides the implementation inside the classes from the user and only show the functionality.\n",
    "\n",
    "\"Reusability \" - We can create new objects by defining classes with similar properties.\n",
    "\n",
    "\"Polymorphism\" - Objects of different classes can respond to same method,.It allows more flexible implementation.\n",
    "\n",
    "\"Inheritence\" - Classes can inherit properties from parent class, this allows the reusability of code.\n",
    "\n",
    "\"Encapsulation\" - It wraps data and methods that wor on data within one unit. This restricts accessing of variables & methods directly and prevents accidental modification."
   ]
  },
  {
   "attachments": {},
   "cell_type": "markdown",
   "metadata": {},
   "source": [
    "### Q2. Where does an inheritance search look for an attribute?\n",
    "\n",
    "Inheritance search look for attribute in current class. This search continues till top-level class- pareent class."
   ]
  },
  {
   "attachments": {},
   "cell_type": "markdown",
   "metadata": {},
   "source": [
    "### Q3. How do you distinguish between a class object and an instance object?\n",
    "\n",
    "class object means the variable that takes the attributes and behaviours of the class and these are common to all the objects of the class.\n",
    "\n",
    "Eg : Car class to represent cars with attributes speed(), mileage().\n",
    "\n",
    "Instance object means it is an object created from class but contains its own set of attributes and behaviours.\n",
    "\n",
    "Eg : Tata, Suzuki are the instances of car each with different attribues and behaviour."
   ]
  },
  {
   "attachments": {},
   "cell_type": "markdown",
   "metadata": {},
   "source": [
    "### Q4. What makes the first argument in a class’s method function special?\n",
    "\n",
    "The first method in class method is referred as \"self\"( We can use anyother word too). It refers to instance of class being referred to.By using self, we can access the attributes and methods of the class. \"Self\" makes it possible to create multiple instances of class with different states.\n"
   ]
  },
  {
   "attachments": {},
   "cell_type": "markdown",
   "metadata": {},
   "source": [
    "### Q5. What is the purpose of the __ init __ method?\n",
    "\n",
    "It allows to set up attribues of the instance,including the variables that the instance will need. It is called automatically when instance of class created."
   ]
  },
  {
   "attachments": {},
   "cell_type": "markdown",
   "metadata": {},
   "source": [
    "### Q6. What is the process for creating a class instance?\n",
    "\n",
    "For creating class instance :\n",
    "\n",
    "we have to call the class using class name and should necessary arguments that __ init__ method accepts.\n",
    "\n",
    "eg: class car:\n",
    "    def __init __(self,model,mileage)\n",
    "\n",
    "car1 = car(\"Nexon\",15) #Nexon is mode, 15 is mileage (arguments of class car)\n",
    "\n",
    "car1 is class instance"
   ]
  },
  {
   "attachments": {},
   "cell_type": "markdown",
   "metadata": {},
   "source": [
    "### Q7. What is the process for creating a class?\n",
    "\n",
    "class CLASS_NAME:\n",
    "\n",
    "    def __init __(self, a,b,c,...)\n",
    "\n",
    "    self.a = a\n",
    "\n",
    "    self.b b\n",
    "    ... \n",
    "\n",
    "    def METHOD(self, arguments):\n",
    "    \n",
    "    code"
   ]
  },
  {
   "attachments": {},
   "cell_type": "markdown",
   "metadata": {},
   "source": [
    "### Q8. How would you define the superclasses of a class?\n",
    "\n",
    "The class from which a class inherits is called superclass. A class which inherits from parent/superclass is called child class.A superclass is a classfrom which many subclasses can be created.For example : Vehicle is the superclass and car,bie, lorry are subclasses."
   ]
  },
  {
   "cell_type": "markdown",
   "metadata": {},
   "source": []
  }
 ],
 "metadata": {
  "kernelspec": {
   "display_name": "Python 3",
   "language": "python",
   "name": "python3"
  },
  "language_info": {
   "codemirror_mode": {
    "name": "ipython",
    "version": 3
   },
   "file_extension": ".py",
   "mimetype": "text/x-python",
   "name": "python",
   "nbconvert_exporter": "python",
   "pygments_lexer": "ipython3",
   "version": "3.10.10"
  },
  "orig_nbformat": 4,
  "vscode": {
   "interpreter": {
    "hash": "40590ebb26e95edc6c1f3a8a7137aad132b51444b5d516fe05a60311a56b75f0"
   }
  }
 },
 "nbformat": 4,
 "nbformat_minor": 2
}
